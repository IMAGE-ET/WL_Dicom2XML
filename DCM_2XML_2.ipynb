{
 "cells": [
  {
   "cell_type": "code",
   "execution_count": 1,
   "metadata": {
    "collapsed": true
   },
   "outputs": [],
   "source": [
    "import numpy as np\n",
    "import dicom\n",
    "from tkinter import *\n",
    "from tkinter import filedialog\n",
    "from tkinter import Tk"
   ]
  },
  {
   "cell_type": "code",
   "execution_count": 2,
   "metadata": {
    "collapsed": true
   },
   "outputs": [],
   "source": [
    "root = Tk()\n",
    "root.withdraw()\n",
    "file = filedialog.askopenfilename()\n",
    "plan = dicom.read_file(file)"
   ]
  },
  {
   "cell_type": "code",
   "execution_count": 15,
   "metadata": {},
   "outputs": [],
   "source": [
    "def GetGantry_and_MLC(plan):\n",
    "    ##I'm going to start over down here, Mahmoud, and let's summarize what you've been doing so far\n",
    "    #1. This code here is going to find the cardinal angles that need to be measured.\n",
    "    #Cardinal angles\n",
    "    # Gantry angle of start and end cps\n",
    "    Start = plan.BeamSequence[0].ControlPointSequence[0].GantryAngle\n",
    "    End = plan.BeamSequence[0].ControlPointSequence[-1].GantryAngle\n",
    "    #convert to Varian Scale\n",
    "    if(Start <=180):\n",
    "        Start= 180 - Start\n",
    "    else:\n",
    "        Start = 540-Start\n",
    "    if(End <=180):\n",
    "        End = 180 - End\n",
    "    else:\n",
    "        End = 540-End\n",
    "    #print(Start,End)\n",
    "    possible_cardinals = np.array([Start,0,90,180,270,End])\n",
    "    #cards= [x in np.arange(Start,End) for x in possible_cardinals]\n",
    "    #this is only for CC, With CW the line will have reversed comparison operators.\n",
    "    cards =  possible_cardinals[np.where(np.logical_and(possible_cardinals>=Start, possible_cardinals<=End))]\n",
    "    print(cards)\n",
    "    #2. Then find a list of control points that correspond to the surrounding control points at these angles.\n",
    "    #this time I\"ll do the icp calculation inside this loop.\n",
    "    mlc_new_positions = {} #this is how to create a dictionary\n",
    "    icp = []\n",
    "    #looping over the control points to find the cardinal Angles \"Varian Coordinates\".\n",
    "    for i in np.arange(0,len(plan.BeamSequence[0].ControlPointSequence)-1):\n",
    "        current_gantry = plan.BeamSequence[0].ControlPointSequence[i].GantryAngle\n",
    "        next_gantry = plan.BeamSequence[0].ControlPointSequence[i+1].GantryAngle\n",
    "        #conversion to Varian Scale.\n",
    "        current_gantry = 180-current_gantry if current_gantry <= 180 else 540-current_gantry\n",
    "        next_gantry = 180 -next_gantry if next_gantry <=180 else 540-next_gantry\n",
    "        for j in cards:\n",
    "            #print(current_gantry, next_gantry, j)\n",
    "            #print(np.linspace(current_gantry,next_gantry,np.absolute(current_gantry-next_gantry)+1))\n",
    "            if j in np.arange(current_gantry,next_gantry+1):\n",
    "                print (\"The cardinal Beam angle in between: \",current_gantry, \" and \", next_gantry, \" degree 'Varian coordinate'  between control points: \", plan.BeamSequence[0].ControlPointSequence[i].ControlPointIndex, \" and \", plan.BeamSequence[0].ControlPointSequence[i+1].ControlPointIndex)\n",
    "                print(\"Corresponds to \", str(j))\n",
    "                #determine MLC positions of current and next control points.\n",
    "                prev_mlc_pos= plan.BeamSequence[0].ControlPointSequence[i].BeamLimitingDevicePositionSequence[-1].LeafJawPositions\n",
    "                next_mlc_pos = plan.BeamSequence[0].ControlPointSequence[i+1].BeamLimitingDevicePositionSequence[-1].LeafJawPositions\n",
    "                #this array is just to calculate the interpolation. \n",
    "                temp_mlc = []\n",
    "                #print(plan.BeamSequence[0].ControlPointSequence[i].BeamLimitingDevicePositionSequence)\n",
    "                #interpolate to find the exact control point at the cardinal angle\n",
    "                if j == current_gantry:\n",
    "                    icp.append(float(plan.BeamSequence[0].ControlPointSequence[i].ControlPointIndex))\n",
    "                    #print('Current Gantry!')\n",
    "                    temp_mlc = [float(x) for x in plan.BeamSequence[0].ControlPointSequence[i].BeamLimitingDevicePositionSequence[-1].LeafJawPositions]\n",
    "                    print('Writing temp MLC for Current Gantry.')\n",
    "                    #write to the dictionary the temp_mlc with the gantry angle in Varian Standard as the key.\n",
    "                    mlc_new_positions[j]=temp_mlc\n",
    "                    #print (plan.BeamSequence[0].ControlPointSequence[i].ControlPointIndex)\n",
    "                elif j == next_gantry:#ahhh you got me on this one was supposed to be an else if\n",
    "                    icp.append(float(plan.BeamSequence[0].ControlPointSequence[i+1].ControlPointIndex))\n",
    "                    #print (plan.BeamSequence[0].ControlPointSequence[i+1].ControlPointIndex)\n",
    "                    temp_mlc = [float(x) for x in plan.BeamSequence[0].ControlPointSequence[i+1].BeamLimitingDevicePositionSequence[-1].LeafJawPositions]\n",
    "                    print('Next Gantry!')\n",
    "                    mlc_new_positions[j] = temp_mlc\n",
    "                else:\n",
    "                    print('Interp gantry')\n",
    "                    icp_temp = plan.BeamSequence[0].ControlPointSequence[i].ControlPointIndex*(1-((j-current_gantry)/(next_gantry-current_gantry)))+plan.BeamSequence[0].ControlPointSequence[i+1].ControlPointIndex*(1-((next_gantry-j)/(next_gantry-current_gantry)))\n",
    "                    cp_index = float(plan.BeamSequence[0].ControlPointSequence[i].ControlPointIndex)\n",
    "                    cp_index_next = float(plan.BeamSequence[0].ControlPointSequence[i+1].ControlPointIndex)\n",
    "                    icp.append(icp_temp)\n",
    "                    #loop through all MLC positions\n",
    "                    print('checking mlc positions')\n",
    "                    print('prev, next, interp')#uncomment the printed line below to actually get these values.\n",
    "                    for x in np.arange(0,len(prev_mlc_pos)):\n",
    "                        #y = y_0 + (x-x_0)*((y_1-y_0)/(x_1-x_0))\n",
    "                        temp_interp = float(prev_mlc_pos[x])+(icp_temp-cp_index)*((float(next_mlc_pos[x])-float(prev_mlc_pos[x]))/(cp_index_next-cp_index))\n",
    "                        temp_mlc.append(temp_interp)\n",
    "                        #print(float(prev_mlc_pos[x]),next_mlc_pos[x], temp_interp)\n",
    "                    mlc_new_positions[j] = temp_mlc\n",
    "                print (mlc_new_positions[j])\n",
    "                print('--------------------------')\n",
    "    print('cardinal angles are: ', cards)\n",
    "    print('control points are: ',icp)\n",
    "    #print(mlc_new_positions)\n",
    "    print ('Done!')\n",
    "    return mlc_new_positions"
   ]
  },
  {
   "cell_type": "code",
   "execution_count": 19,
   "metadata": {},
   "outputs": [
    {
     "name": "stdout",
     "output_type": "stream",
     "text": [
      "[   1.   90.  180.  270.  359.]\n",
      "The cardinal Beam angle in between:  1.0  and  3.0  degree 'Varian coordinate'  between control points:  0  and  1\n",
      "Corresponds to  1.0\n",
      "Writing temp MLC for Current Gantry.\n",
      "[-0.25, -0.25, -0.25, -0.25, -0.25, -0.25, -0.25, -0.25, -0.25, -0.25, -0.25, -0.25, -0.25, -0.25, -0.25, -0.25, -0.25, -0.25, -0.25, -0.25, -0.25, 7.91, 5.35, 4.71, 3.97, 4.96, 5.65, 8.95, -0.25, -0.25, -0.25, -0.25, -0.25, -0.25, -0.25, -0.25, -0.25, -0.25, -0.25, -0.25, -0.25, -0.25, -0.25, -0.25, -0.25, -0.25, -0.25, -0.25, -0.25, -0.25, -0.25, -0.25, -0.25, -0.25, -0.25, -0.25, -0.25, -0.25, -0.25, -0.25, -0.25, -0.25, -0.25, -0.25, -0.25, -0.25, -0.25, -0.25, -0.25, -0.25, -0.25, -0.25, -0.25, -0.25, -0.25, -0.25, -0.25, -0.25, -0.25, -0.25, -0.25, 19.55, 22.25, 22.55, 22.85, 22.55, 21.95, 18.55, -0.25, -0.25, -0.25, -0.25, -0.25, -0.25, -0.25, -0.25, -0.25, -0.25, -0.25, -0.25, -0.25, -0.25, -0.25, -0.25, -0.25, -0.25, -0.25, -0.25, -0.25, -0.25, -0.25, -0.25, -0.25, -0.25, -0.25, -0.25, -0.25, -0.25, -0.25, -0.25]\n",
      "--------------------------\n",
      "The cardinal Beam angle in between:  89.0  and  91.0  degree 'Varian coordinate'  between control points:  44  and  45\n",
      "Corresponds to  90.0\n",
      "Interp gantry\n",
      "checking mlc positions\n",
      "prev, next, interp\n",
      "[-0.25, -0.25, -0.25, -0.25, -0.25, -0.25, -0.25, -0.25, -0.25, -0.25, -0.25, -0.25, -0.25, -0.25, -0.25, -0.25, -0.25, -0.25, -0.25, -0.25, -0.25, -5.125, -8.0949999999999989, -9.3350000000000009, -9.5100000000000016, -9.3900000000000006, -7.625, -3.6499999999999999, -0.25, -0.25, -0.25, -0.25, -0.25, -0.25, -0.25, -0.25, -0.25, -0.25, -0.25, -0.25, -0.25, -0.25, -0.25, -0.25, -0.25, -0.25, -0.25, -0.25, -0.25, -0.25, -0.25, -0.25, -0.25, -0.25, -0.25, -0.25, -0.25, -0.25, -0.25, -0.25, -0.25, -0.25, -0.25, -0.25, -0.25, -0.25, -0.25, -0.25, -0.25, -0.25, -0.25, -0.25, -0.25, -0.25, -0.25, -0.25, -0.25, -0.25, -0.25, -0.25, -0.25, 5.25, 8.0500000000000007, 9.4000000000000004, 9.5500000000000007, 9.4000000000000004, 7.75, 3.5499999999999998, -0.25, -0.25, -0.25, -0.25, -0.25, -0.25, -0.25, -0.25, -0.25, -0.25, -0.25, -0.25, -0.25, -0.25, -0.25, -0.25, -0.25, -0.25, -0.25, -0.25, -0.25, -0.25, -0.25, -0.25, -0.25, -0.25, -0.25, -0.25, -0.25, -0.25, -0.25, -0.25]\n",
      "--------------------------\n",
      "The cardinal Beam angle in between:  179.0  and  181.0  degree 'Varian coordinate'  between control points:  89  and  90\n",
      "Corresponds to  180.0\n",
      "Interp gantry\n",
      "checking mlc positions\n",
      "prev, next, interp\n",
      "[-0.25, -0.25, -0.25, -0.25, -0.25, -0.25, -0.25, -0.25, -0.25, -0.25, -0.25, -0.25, -0.25, -0.25, -0.25, -0.25, -0.25, -0.25, -0.25, -0.25, -0.25, -19.579999999999998, -22.030000000000001, -22.585000000000001, -22.649999999999999, -22.469999999999999, -21.73, -18.649999999999999, -0.25, -0.25, -0.25, -0.25, -0.25, -0.25, -0.25, -0.25, -0.25, -0.25, -0.25, -0.25, -0.25, -0.25, -0.25, -0.25, -0.25, -0.25, -0.25, -0.25, -0.25, -0.25, -0.25, -0.25, -0.25, -0.25, -0.25, -0.25, -0.25, -0.25, -0.25, -0.25, -0.25, -0.25, -0.25, -0.25, -0.25, -0.25, -0.25, -0.25, -0.25, -0.25, -0.25, -0.25, -0.25, -0.25, -0.25, -0.25, -0.25, -0.25, -0.25, -0.25, -0.25, -7.75, -5.1500000000000004, -4.75, -4.1500000000000004, -5.0499999999999998, -5.4500000000000002, -9.0500000000000007, -0.25, -0.25, -0.25, -0.25, -0.25, -0.25, -0.25, -0.25, -0.25, -0.25, -0.25, -0.25, -0.25, -0.25, -0.25, -0.25, -0.25, -0.25, -0.25, -0.25, -0.25, -0.25, -0.25, -0.25, -0.25, -0.25, -0.25, -0.25, -0.25, -0.25, -0.25, -0.25]\n",
      "--------------------------\n",
      "The cardinal Beam angle in between:  269.0  and  271.0  degree 'Varian coordinate'  between control points:  134  and  135\n",
      "Corresponds to  270.0\n",
      "Interp gantry\n",
      "checking mlc positions\n",
      "prev, next, interp\n",
      "[-0.25, -0.25, -0.25, -0.25, -0.25, -0.25, -0.25, -0.25, -0.25, -0.25, -0.25, -0.25, -0.25, -0.25, -0.25, -0.25, -0.25, -0.25, -0.25, -0.25, -0.25, -6.54, -8.629999999999999, -9.5700000000000003, -9.7650000000000006, -9.3249999999999993, -7.8049999999999997, -3.6499999999999999, -0.25, -0.25, -0.25, -0.25, -0.25, -0.25, -0.25, -0.25, -0.25, -0.25, -0.25, -0.25, -0.25, -0.25, -0.25, -0.25, -0.25, -0.25, -0.25, -0.25, -0.25, -0.25, -0.25, -0.25, -0.25, -0.25, -0.25, -0.25, -0.25, -0.25, -0.25, -0.25, -0.25, -0.25, -0.25, -0.25, -0.25, -0.25, -0.25, -0.25, -0.25, -0.25, -0.25, -0.25, -0.25, -0.25, -0.25, -0.25, -0.25, -0.25, -0.25, -0.25, -0.25, 6.6999999999999993, 8.9000000000000004, 9.6999999999999993, 9.8999999999999986, 9.4000000000000004, 7.75, 3.5499999999999998, -0.25, -0.25, -0.25, -0.25, -0.25, -0.25, -0.25, -0.25, -0.25, -0.25, -0.25, -0.25, -0.25, -0.25, -0.25, -0.25, -0.25, -0.25, -0.25, -0.25, -0.25, -0.25, -0.25, -0.25, -0.25, -0.25, -0.25, -0.25, -0.25, -0.25, -0.25, -0.25]\n",
      "--------------------------\n",
      "The cardinal Beam angle in between:  357.0  and  359.0  degree 'Varian coordinate'  between control points:  178  and  179\n",
      "Corresponds to  359.0\n",
      "Next Gantry!\n",
      "[-0.25, -0.25, -0.25, -0.25, -0.25, -0.25, -0.25, -0.25, -0.25, -0.25, -0.25, -0.25, -0.25, -0.25, -0.25, -0.25, -0.25, -0.25, -0.25, -0.25, -0.25, 7.91, 5.35, 4.71, 3.97, 4.96, 5.65, 8.95, -0.25, -0.25, -0.25, -0.25, -0.25, -0.25, -0.25, -0.25, -0.25, -0.25, -0.25, -0.25, -0.25, -0.25, -0.25, -0.25, -0.25, -0.25, -0.25, -0.25, -0.25, -0.25, -0.25, -0.25, -0.25, -0.25, -0.25, -0.25, -0.25, -0.25, -0.25, -0.25, -0.25, -0.25, -0.25, -0.25, -0.25, -0.25, -0.25, -0.25, -0.25, -0.25, -0.25, -0.25, -0.25, -0.25, -0.25, -0.25, -0.25, -0.25, -0.25, -0.25, -0.25, 19.55, 22.25, 22.55, 22.85, 22.55, 21.95, 18.55, -0.25, -0.25, -0.25, -0.25, -0.25, -0.25, -0.25, -0.25, -0.25, -0.25, -0.25, -0.25, -0.25, -0.25, -0.25, -0.25, -0.25, -0.25, -0.25, -0.25, -0.25, -0.25, -0.25, -0.25, -0.25, -0.25, -0.25, -0.25, -0.25, -0.25, -0.25, -0.25]\n",
      "--------------------------\n",
      "cardinal angles are:  [   1.   90.  180.  270.  359.]\n",
      "control points are:  [0.0, 44.5, 89.5, 134.5, 179.0]\n",
      "Done!\n",
      "<class 'dict'>\n"
     ]
    }
   ],
   "source": [
    "MLC_Pos = GetGantry_and_MLC(plan)\n",
    "print(type(MLC_Pos))"
   ]
  },
  {
   "cell_type": "code",
   "execution_count": 20,
   "metadata": {},
   "outputs": [
    {
     "name": "stdout",
     "output_type": "stream",
     "text": [
      "1.0 [-0.25, -0.25, -0.25, -0.25, -0.25, -0.25, -0.25, -0.25, -0.25, -0.25, -0.25, -0.25, -0.25, -0.25, -0.25, -0.25, -0.25, -0.25, -0.25, -0.25, -0.25, 7.91, 5.35, 4.71, 3.97, 4.96, 5.65, 8.95, -0.25, -0.25, -0.25, -0.25, -0.25, -0.25, -0.25, -0.25, -0.25, -0.25, -0.25, -0.25, -0.25, -0.25, -0.25, -0.25, -0.25, -0.25, -0.25, -0.25, -0.25, -0.25, -0.25, -0.25, -0.25, -0.25, -0.25, -0.25, -0.25, -0.25, -0.25, -0.25, -0.25, -0.25, -0.25, -0.25, -0.25, -0.25, -0.25, -0.25, -0.25, -0.25, -0.25, -0.25, -0.25, -0.25, -0.25, -0.25, -0.25, -0.25, -0.25, -0.25, -0.25, 19.55, 22.25, 22.55, 22.85, 22.55, 21.95, 18.55, -0.25, -0.25, -0.25, -0.25, -0.25, -0.25, -0.25, -0.25, -0.25, -0.25, -0.25, -0.25, -0.25, -0.25, -0.25, -0.25, -0.25, -0.25, -0.25, -0.25, -0.25, -0.25, -0.25, -0.25, -0.25, -0.25, -0.25, -0.25, -0.25, -0.25, -0.25, -0.25]\n",
      "90.0 [-0.25, -0.25, -0.25, -0.25, -0.25, -0.25, -0.25, -0.25, -0.25, -0.25, -0.25, -0.25, -0.25, -0.25, -0.25, -0.25, -0.25, -0.25, -0.25, -0.25, -0.25, -5.125, -8.0949999999999989, -9.3350000000000009, -9.5100000000000016, -9.3900000000000006, -7.625, -3.6499999999999999, -0.25, -0.25, -0.25, -0.25, -0.25, -0.25, -0.25, -0.25, -0.25, -0.25, -0.25, -0.25, -0.25, -0.25, -0.25, -0.25, -0.25, -0.25, -0.25, -0.25, -0.25, -0.25, -0.25, -0.25, -0.25, -0.25, -0.25, -0.25, -0.25, -0.25, -0.25, -0.25, -0.25, -0.25, -0.25, -0.25, -0.25, -0.25, -0.25, -0.25, -0.25, -0.25, -0.25, -0.25, -0.25, -0.25, -0.25, -0.25, -0.25, -0.25, -0.25, -0.25, -0.25, 5.25, 8.0500000000000007, 9.4000000000000004, 9.5500000000000007, 9.4000000000000004, 7.75, 3.5499999999999998, -0.25, -0.25, -0.25, -0.25, -0.25, -0.25, -0.25, -0.25, -0.25, -0.25, -0.25, -0.25, -0.25, -0.25, -0.25, -0.25, -0.25, -0.25, -0.25, -0.25, -0.25, -0.25, -0.25, -0.25, -0.25, -0.25, -0.25, -0.25, -0.25, -0.25, -0.25, -0.25]\n",
      "180.0 [-0.25, -0.25, -0.25, -0.25, -0.25, -0.25, -0.25, -0.25, -0.25, -0.25, -0.25, -0.25, -0.25, -0.25, -0.25, -0.25, -0.25, -0.25, -0.25, -0.25, -0.25, -19.579999999999998, -22.030000000000001, -22.585000000000001, -22.649999999999999, -22.469999999999999, -21.73, -18.649999999999999, -0.25, -0.25, -0.25, -0.25, -0.25, -0.25, -0.25, -0.25, -0.25, -0.25, -0.25, -0.25, -0.25, -0.25, -0.25, -0.25, -0.25, -0.25, -0.25, -0.25, -0.25, -0.25, -0.25, -0.25, -0.25, -0.25, -0.25, -0.25, -0.25, -0.25, -0.25, -0.25, -0.25, -0.25, -0.25, -0.25, -0.25, -0.25, -0.25, -0.25, -0.25, -0.25, -0.25, -0.25, -0.25, -0.25, -0.25, -0.25, -0.25, -0.25, -0.25, -0.25, -0.25, -7.75, -5.1500000000000004, -4.75, -4.1500000000000004, -5.0499999999999998, -5.4500000000000002, -9.0500000000000007, -0.25, -0.25, -0.25, -0.25, -0.25, -0.25, -0.25, -0.25, -0.25, -0.25, -0.25, -0.25, -0.25, -0.25, -0.25, -0.25, -0.25, -0.25, -0.25, -0.25, -0.25, -0.25, -0.25, -0.25, -0.25, -0.25, -0.25, -0.25, -0.25, -0.25, -0.25, -0.25]\n",
      "270.0 [-0.25, -0.25, -0.25, -0.25, -0.25, -0.25, -0.25, -0.25, -0.25, -0.25, -0.25, -0.25, -0.25, -0.25, -0.25, -0.25, -0.25, -0.25, -0.25, -0.25, -0.25, -6.54, -8.629999999999999, -9.5700000000000003, -9.7650000000000006, -9.3249999999999993, -7.8049999999999997, -3.6499999999999999, -0.25, -0.25, -0.25, -0.25, -0.25, -0.25, -0.25, -0.25, -0.25, -0.25, -0.25, -0.25, -0.25, -0.25, -0.25, -0.25, -0.25, -0.25, -0.25, -0.25, -0.25, -0.25, -0.25, -0.25, -0.25, -0.25, -0.25, -0.25, -0.25, -0.25, -0.25, -0.25, -0.25, -0.25, -0.25, -0.25, -0.25, -0.25, -0.25, -0.25, -0.25, -0.25, -0.25, -0.25, -0.25, -0.25, -0.25, -0.25, -0.25, -0.25, -0.25, -0.25, -0.25, 6.6999999999999993, 8.9000000000000004, 9.6999999999999993, 9.8999999999999986, 9.4000000000000004, 7.75, 3.5499999999999998, -0.25, -0.25, -0.25, -0.25, -0.25, -0.25, -0.25, -0.25, -0.25, -0.25, -0.25, -0.25, -0.25, -0.25, -0.25, -0.25, -0.25, -0.25, -0.25, -0.25, -0.25, -0.25, -0.25, -0.25, -0.25, -0.25, -0.25, -0.25, -0.25, -0.25, -0.25, -0.25]\n",
      "359.0 [-0.25, -0.25, -0.25, -0.25, -0.25, -0.25, -0.25, -0.25, -0.25, -0.25, -0.25, -0.25, -0.25, -0.25, -0.25, -0.25, -0.25, -0.25, -0.25, -0.25, -0.25, 7.91, 5.35, 4.71, 3.97, 4.96, 5.65, 8.95, -0.25, -0.25, -0.25, -0.25, -0.25, -0.25, -0.25, -0.25, -0.25, -0.25, -0.25, -0.25, -0.25, -0.25, -0.25, -0.25, -0.25, -0.25, -0.25, -0.25, -0.25, -0.25, -0.25, -0.25, -0.25, -0.25, -0.25, -0.25, -0.25, -0.25, -0.25, -0.25, -0.25, -0.25, -0.25, -0.25, -0.25, -0.25, -0.25, -0.25, -0.25, -0.25, -0.25, -0.25, -0.25, -0.25, -0.25, -0.25, -0.25, -0.25, -0.25, -0.25, -0.25, 19.55, 22.25, 22.55, 22.85, 22.55, 21.95, 18.55, -0.25, -0.25, -0.25, -0.25, -0.25, -0.25, -0.25, -0.25, -0.25, -0.25, -0.25, -0.25, -0.25, -0.25, -0.25, -0.25, -0.25, -0.25, -0.25, -0.25, -0.25, -0.25, -0.25, -0.25, -0.25, -0.25, -0.25, -0.25, -0.25, -0.25, -0.25, -0.25]\n"
     ]
    }
   ],
   "source": [
    "for gantry,mlc_pos in MLC_Pos.items():\n",
    "    #this has your gantry angles and your control points.\n",
    "    print(gantry,mlc_pos)"
   ]
  },
  {
   "cell_type": "code",
   "execution_count": null,
   "metadata": {
    "collapsed": true
   },
   "outputs": [],
   "source": []
  }
 ],
 "metadata": {
  "kernelspec": {
   "display_name": "Python 3",
   "language": "python",
   "name": "python3"
  },
  "language_info": {
   "codemirror_mode": {
    "name": "ipython",
    "version": 3
   },
   "file_extension": ".py",
   "mimetype": "text/x-python",
   "name": "python",
   "nbconvert_exporter": "python",
   "pygments_lexer": "ipython3",
   "version": "3.6.3"
  }
 },
 "nbformat": 4,
 "nbformat_minor": 2
}

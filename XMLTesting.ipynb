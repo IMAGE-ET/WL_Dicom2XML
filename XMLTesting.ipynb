{
 "cells": [
  {
   "cell_type": "code",
   "execution_count": 1,
   "metadata": {
    "collapsed": true
   },
   "outputs": [],
   "source": [
    "gantry_angles = [90,180,270]\n",
    "mlc_positionList_A = [[10]*60,[12]*60, [10]*60]\n",
    "mlc_positionList_B = [[-8]*60,[-10]*60,[-8]*60]\n",
    "jaws = 4"
   ]
  },
  {
   "cell_type": "code",
   "execution_count": 42,
   "metadata": {
    "collapsed": true
   },
   "outputs": [],
   "source": [
    "from xml.etree.ElementTree import ElementTree\n",
    "from xml.etree.ElementTree import Element\n",
    "import xml.etree.ElementTree as etree\n",
    "from xml.etree.ElementTree import Comment\n",
    "from xml.dom import minidom\n",
    "import numpy as np"
   ]
  },
  {
   "cell_type": "code",
   "execution_count": 9,
   "metadata": {
    "collapsed": true
   },
   "outputs": [],
   "source": [
    "#build the XML file\n",
    "#first the header.\n"
   ]
  },
  {
   "cell_type": "code",
   "execution_count": 10,
   "metadata": {},
   "outputs": [
    {
     "data": {
      "text/plain": [
       "'\\n<VarianResearchBeam SchemaVersion=\"1.0\">\\n<!--Generated from python-->\\n    <SetBeam>\\n        <Id>1234</Id>\\n        <MLCModel>NDS120HD</MLCModel>\\n        <Accs>\\n            <Acc2>3317</Acc2>\\n        </Accs>\\n     </SetBeam>\\n</VarianResearchBeam>\\n'"
      ]
     },
     "execution_count": 10,
     "metadata": {},
     "output_type": "execute_result"
    }
   ],
   "source": [
    "'''\n",
    "<VarianResearchBeam SchemaVersion=\"1.0\">\n",
    "<!--Generated from python-->\n",
    "    <SetBeam>\n",
    "        <Id>1234</Id>\n",
    "        <MLCModel>NDS120HD</MLCModel>\n",
    "        <Accs>\n",
    "            <Acc2>3317</Acc2>\n",
    "        </Accs>\n",
    "        <ControlPoints>\n",
    "            <Cp>\n",
    "                <SubBeam>\n",
    "                    <Seq>0</Seq>\n",
    "                    <Name>MV Outside</Name>\n",
    "                </SubBeam>\n",
    "                <Energy>6x</Energy>\n",
    "                <Mu>0</Mu>\n",
    "                <DRate>400</DRate>\n",
    "                <GantryRtn>180.0</GantryRtn>\n",
    "                <CollRtn>180</CollRtn>\n",
    "                <Y1>2.5</Y1>\n",
    "                <Y2>2.5</Y2>\n",
    "                <X1>2.5</X1>\n",
    "                <X2>2.5</X2>\n",
    "            </Cp>\n",
    "            <!--Now loop through the rest of the control points-->\n",
    "     </SetBeam>\n",
    "</VarianResearchBeam>\n",
    "'''"
   ]
  },
  {
   "cell_type": "code",
   "execution_count": 43,
   "metadata": {},
   "outputs": [],
   "source": [
    "root = Element(\"VarianResearchBeam\")\n",
    "tree= ElementTree(root)\n",
    "root.set('SchemaVersion','1.0')\n",
    "comment = Comment('Build from python')\n",
    "root.append(comment)\n",
    "setBeam = Element('SetBeam')\n",
    "root.append(setBeam)\n",
    "#inner tags\n",
    "id_tag = Element('Id')\n",
    "id_tag.text='1234'\n",
    "setBeam.append(id_tag)\n",
    "mlcModel = Element('MLCModel')\n",
    "mlcModel.text = 'NDS120HD'\n",
    "setBeam.append(mlcModel)\n",
    "Accs = Element('Accs')\n",
    "Acc2 = Element('Acc2')\n",
    "Acc2.text = '3317'\n",
    "Accs.append(Acc2)\n",
    "setBeam.append(Accs)\n",
    "ControlPoints = Element('ControlPoints')\n",
    "cp = Element('Cp')\n",
    "SubBeam = Element('SubBeam')\n",
    "Sequence = Element('Sequence')\n",
    "Sequence.text = '0'\n",
    "Name = Element('Name')\n",
    "Name.text = 'MV Outside'\n",
    "SubBeam.append(Sequence)\n",
    "SubBeam.append(Name)\n",
    "cp.append(SubBeam)\n",
    "Energy = Element('Energy')\n",
    "Energy.text = '6x'\n",
    "cp.append(Energy)\n",
    "MU=  Element('MU')\n",
    "MU.text = '0'\n",
    "cp.append(MU)\n",
    "drate = Element('DRate')\n",
    "drate.text = '400'\n",
    "cp.append(drate)\n",
    "Gantryrtn = Element('GantryRtn')\n",
    "Gantryrtn.text = str(gantry_angles[0])\n",
    "cp.append(Gantryrtn)\n",
    "collrtn = Element('CollRtn')\n",
    "collrtn.text = '180'\n",
    "cp.append(collrtn)\n",
    "#jaw size\n",
    "y1 = Element('Y1')\n",
    "y2 = Element('Y2')\n",
    "x1 = Element('X1')\n",
    "x2 = Element('X2')\n",
    "y1.text = y2.text = x1.text = x2.text = '2.5'\n",
    "cp.append(y1)\n",
    "cp.append(y2)\n",
    "cp.append(x1)\n",
    "cp.append(x2)\n",
    "mlc = Element('Mlc')\n",
    "mlc_id = Element('ID')\n",
    "mlc_id.text  = '1'\n",
    "mlc.append(mlc_id)\n",
    "mlc_b = Element('B')\n",
    "j = ','\n",
    "mlc_b.text = j.join(str(x) for x in mlc_positionList_B[0])\n",
    "mlc.append(mlc_b)\n",
    "mlc_a = Element('A')\n",
    "mlc_a.text = j.join(str(x) for x in mlc_positionList_A[0])\n",
    "mlc.append(mlc_a)\n",
    "cp.append(mlc)\n",
    "\n",
    "ControlPoints.append(cp)\n",
    "\n",
    "\n",
    "#now loop through the other control poitns.\n",
    "for i in np.arange(1,len(gantry_angles)):\n",
    "    #create blank control poitn for imaging later.\n",
    "    blank_cp = Element('Cp')\n",
    "    ControlPoints.append(blank_cp)\n",
    "    #create a cp for the new gantry anlge and MLC positions.\n",
    "    new_cp = Element('Cp')\n",
    "    Gantryrtn = Element('GantryRtn')\n",
    "    Gantryrtn.text = str(gantry_angles[i])\n",
    "    new_cp.append(Gantryrtn)\n",
    "    mlc = Element('Mlc')\n",
    "    mlc_id = Element('ID')\n",
    "    mlc_id.text  = '1'\n",
    "    mlc.append(mlc_id)\n",
    "    mlc_b = Element('B')\n",
    "    j = ','\n",
    "    mlc_b.text = j.join(str(x) for x in mlc_positionList_B[i])\n",
    "    mlc.append(mlc_b)\n",
    "    mlc_a = Element('A')\n",
    "    mlc_a.text = j.join(str(x) for x in mlc_positionList_A[i])\n",
    "    mlc.append(mlc_a)\n",
    "    new_cp.append(mlc)\n",
    "    ControlPoints.append(new_cp)\n",
    "    \n",
    "setBeam.append(ControlPoints)"
   ]
  },
  {
   "cell_type": "code",
   "execution_count": 44,
   "metadata": {},
   "outputs": [
    {
     "name": "stdout",
     "output_type": "stream",
     "text": [
      "b'<VarianResearchBeam SchemaVersion=\"1.0\"><!--Build from python--><SetBeam><Id>1234</Id><MLCModel>NDS120HD</MLCModel><Accs><Acc2>3317</Acc2></Accs><ControlPoints><Cp><SubBeam><Sequence>0</Sequence><Name>MV Outside</Name></SubBeam><Energy>6x</Energy><MU>0</MU><DRate>400</DRate><GantryRtn>90</GantryRtn><CollRtn>180</CollRtn><Y1>2.5</Y1><Y2>2.5</Y2><X1>2.5</X1><X2>2.5</X2><Mlc><ID>1</ID><B>-8,-8,-8,-8,-8,-8,-8,-8,-8,-8,-8,-8,-8,-8,-8,-8,-8,-8,-8,-8,-8,-8,-8,-8,-8,-8,-8,-8,-8,-8,-8,-8,-8,-8,-8,-8,-8,-8,-8,-8,-8,-8,-8,-8,-8,-8,-8,-8,-8,-8,-8,-8,-8,-8,-8,-8,-8,-8,-8,-8</B><A>10,10,10,10,10,10,10,10,10,10,10,10,10,10,10,10,10,10,10,10,10,10,10,10,10,10,10,10,10,10,10,10,10,10,10,10,10,10,10,10,10,10,10,10,10,10,10,10,10,10,10,10,10,10,10,10,10,10,10,10</A></Mlc></Cp><Cp /><Cp><GantryRtn>180</GantryRtn><Mlc><ID>1</ID><B>-10,-10,-10,-10,-10,-10,-10,-10,-10,-10,-10,-10,-10,-10,-10,-10,-10,-10,-10,-10,-10,-10,-10,-10,-10,-10,-10,-10,-10,-10,-10,-10,-10,-10,-10,-10,-10,-10,-10,-10,-10,-10,-10,-10,-10,-10,-10,-10,-10,-10,-10,-10,-10,-10,-10,-10,-10,-10,-10,-10</B><A>12,12,12,12,12,12,12,12,12,12,12,12,12,12,12,12,12,12,12,12,12,12,12,12,12,12,12,12,12,12,12,12,12,12,12,12,12,12,12,12,12,12,12,12,12,12,12,12,12,12,12,12,12,12,12,12,12,12,12,12</A></Mlc></Cp><Cp /><Cp><GantryRtn>270</GantryRtn><Mlc><ID>1</ID><B>-8,-8,-8,-8,-8,-8,-8,-8,-8,-8,-8,-8,-8,-8,-8,-8,-8,-8,-8,-8,-8,-8,-8,-8,-8,-8,-8,-8,-8,-8,-8,-8,-8,-8,-8,-8,-8,-8,-8,-8,-8,-8,-8,-8,-8,-8,-8,-8,-8,-8,-8,-8,-8,-8,-8,-8,-8,-8,-8,-8</B><A>10,10,10,10,10,10,10,10,10,10,10,10,10,10,10,10,10,10,10,10,10,10,10,10,10,10,10,10,10,10,10,10,10,10,10,10,10,10,10,10,10,10,10,10,10,10,10,10,10,10,10,10,10,10,10,10,10,10,10,10</A></Mlc></Cp></ControlPoints></SetBeam></VarianResearchBeam>'\n"
     ]
    }
   ],
   "source": [
    "#print the XML file\n",
    "print(etree.tostring(root))"
   ]
  },
  {
   "cell_type": "code",
   "execution_count": 45,
   "metadata": {},
   "outputs": [
    {
     "name": "stdout",
     "output_type": "stream",
     "text": [
      "<?xml version=\"1.0\" ?>\n",
      "<VarianResearchBeam SchemaVersion=\"1.0\">\n",
      "    <!--Build from python-->\n",
      "    <SetBeam>\n",
      "        <Id>1234</Id>\n",
      "        <MLCModel>NDS120HD</MLCModel>\n",
      "        <Accs>\n",
      "            <Acc2>3317</Acc2>\n",
      "        </Accs>\n",
      "        <ControlPoints>\n",
      "            <Cp>\n",
      "                <SubBeam>\n",
      "                    <Sequence>0</Sequence>\n",
      "                    <Name>MV Outside</Name>\n",
      "                </SubBeam>\n",
      "                <Energy>6x</Energy>\n",
      "                <MU>0</MU>\n",
      "                <DRate>400</DRate>\n",
      "                <GantryRtn>90</GantryRtn>\n",
      "                <CollRtn>180</CollRtn>\n",
      "                <Y1>2.5</Y1>\n",
      "                <Y2>2.5</Y2>\n",
      "                <X1>2.5</X1>\n",
      "                <X2>2.5</X2>\n",
      "                <Mlc>\n",
      "                    <ID>1</ID>\n",
      "                    <B>-8,-8,-8,-8,-8,-8,-8,-8,-8,-8,-8,-8,-8,-8,-8,-8,-8,-8,-8,-8,-8,-8,-8,-8,-8,-8,-8,-8,-8,-8,-8,-8,-8,-8,-8,-8,-8,-8,-8,-8,-8,-8,-8,-8,-8,-8,-8,-8,-8,-8,-8,-8,-8,-8,-8,-8,-8,-8,-8,-8</B>\n",
      "                    <A>10,10,10,10,10,10,10,10,10,10,10,10,10,10,10,10,10,10,10,10,10,10,10,10,10,10,10,10,10,10,10,10,10,10,10,10,10,10,10,10,10,10,10,10,10,10,10,10,10,10,10,10,10,10,10,10,10,10,10,10</A>\n",
      "                </Mlc>\n",
      "            </Cp>\n",
      "            <Cp/>\n",
      "            <Cp>\n",
      "                <GantryRtn>180</GantryRtn>\n",
      "                <Mlc>\n",
      "                    <ID>1</ID>\n",
      "                    <B>-10,-10,-10,-10,-10,-10,-10,-10,-10,-10,-10,-10,-10,-10,-10,-10,-10,-10,-10,-10,-10,-10,-10,-10,-10,-10,-10,-10,-10,-10,-10,-10,-10,-10,-10,-10,-10,-10,-10,-10,-10,-10,-10,-10,-10,-10,-10,-10,-10,-10,-10,-10,-10,-10,-10,-10,-10,-10,-10,-10</B>\n",
      "                    <A>12,12,12,12,12,12,12,12,12,12,12,12,12,12,12,12,12,12,12,12,12,12,12,12,12,12,12,12,12,12,12,12,12,12,12,12,12,12,12,12,12,12,12,12,12,12,12,12,12,12,12,12,12,12,12,12,12,12,12,12</A>\n",
      "                </Mlc>\n",
      "            </Cp>\n",
      "            <Cp/>\n",
      "            <Cp>\n",
      "                <GantryRtn>270</GantryRtn>\n",
      "                <Mlc>\n",
      "                    <ID>1</ID>\n",
      "                    <B>-8,-8,-8,-8,-8,-8,-8,-8,-8,-8,-8,-8,-8,-8,-8,-8,-8,-8,-8,-8,-8,-8,-8,-8,-8,-8,-8,-8,-8,-8,-8,-8,-8,-8,-8,-8,-8,-8,-8,-8,-8,-8,-8,-8,-8,-8,-8,-8,-8,-8,-8,-8,-8,-8,-8,-8,-8,-8,-8,-8</B>\n",
      "                    <A>10,10,10,10,10,10,10,10,10,10,10,10,10,10,10,10,10,10,10,10,10,10,10,10,10,10,10,10,10,10,10,10,10,10,10,10,10,10,10,10,10,10,10,10,10,10,10,10,10,10,10,10,10,10,10,10,10,10,10,10</A>\n",
      "                </Mlc>\n",
      "            </Cp>\n",
      "        </ControlPoints>\n",
      "    </SetBeam>\n",
      "</VarianResearchBeam>\n",
      "\n"
     ]
    }
   ],
   "source": [
    "with open('testXML','wb') as xmlfile:\n",
    "    rough_string = etree.tostring(root)\n",
    "    parsed = minidom.parseString(rough_string)\n",
    "    pretty_tree = parsed.toprettyxml(indent='    ')\n",
    "    #pretty_tree.write(xmlfile)\n",
    "    print(pretty_tree)"
   ]
  },
  {
   "cell_type": "code",
   "execution_count": null,
   "metadata": {
    "collapsed": true
   },
   "outputs": [],
   "source": []
  }
 ],
 "metadata": {
  "kernelspec": {
   "display_name": "Python 3",
   "language": "python",
   "name": "python3"
  },
  "language_info": {
   "codemirror_mode": {
    "name": "ipython",
    "version": 3
   },
   "file_extension": ".py",
   "mimetype": "text/x-python",
   "name": "python",
   "nbconvert_exporter": "python",
   "pygments_lexer": "ipython3",
   "version": "3.6.3"
  }
 },
 "nbformat": 4,
 "nbformat_minor": 2
}

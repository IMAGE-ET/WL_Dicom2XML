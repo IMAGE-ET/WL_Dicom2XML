{
 "cells": [
  {
   "cell_type": "code",
   "execution_count": 3,
   "metadata": {
    "collapsed": true
   },
   "outputs": [],
   "source": [
    "#initiate some fake control points\n",
    "cp_list = [0,45,90,145]\n",
    "gantry_list=[0,90,180,270]\n",
    "mlc_position_listA = [[10]*60,[12]*60,[8]*60,[10]*60]\n",
    "mlc_position_listB = [[-8]*60,[-10]*60,[-6]*60,[-8]*60]"
   ]
  },
  {
   "cell_type": "code",
   "execution_count": 4,
   "metadata": {
    "collapsed": true
   },
   "outputs": [],
   "source": [
    "#research xml writing libraries in Anaconda"
   ]
  },
  {
   "cell_type": "code",
   "execution_count": 5,
   "metadata": {
    "scrolled": true
   },
   "outputs": [
    {
     "ename": "SyntaxError",
     "evalue": "invalid syntax (<ipython-input-5-d2ff26dd69e7>, line 11)",
     "output_type": "error",
     "traceback": [
      "\u001b[1;36m  File \u001b[1;32m\"<ipython-input-5-d2ff26dd69e7>\"\u001b[1;36m, line \u001b[1;32m11\u001b[0m\n\u001b[1;33m    print etree.tostring(root)\u001b[0m\n\u001b[1;37m              ^\u001b[0m\n\u001b[1;31mSyntaxError\u001b[0m\u001b[1;31m:\u001b[0m invalid syntax\n"
     ]
    }
   ],
   "source": [
    "from xml.etree.ElementTree import ElementTree\n",
    "from xml.etree.ElementTree import Element\n",
    "import xml.etree.ElementTree as etree\n",
    "\n",
    "root=Elemet('person')\n",
    "tree=ElementTree(root)\n",
    "name=Element('name')\n",
    "root.append(name)\n",
    "name.text='Julie'\n",
    "\n",
    "print etree.tostring(root)"
   ]
  },
  {
   "cell_type": "code",
   "execution_count": null,
   "metadata": {
    "collapsed": true
   },
   "outputs": [],
   "source": []
  }
 ],
 "metadata": {
  "kernelspec": {
   "display_name": "Python 3",
   "language": "python",
   "name": "python3"
  },
  "language_info": {
   "codemirror_mode": {
    "name": "ipython",
    "version": 3
   },
   "file_extension": ".py",
   "mimetype": "text/x-python",
   "name": "python",
   "nbconvert_exporter": "python",
   "pygments_lexer": "ipython3",
   "version": "3.6.3"
  }
 },
 "nbformat": 4,
 "nbformat_minor": 2
}

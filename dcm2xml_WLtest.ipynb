{
 "cells": [
  {
   "cell_type": "code",
   "execution_count": 3,
   "metadata": {
    "collapsed": false
   },
   "outputs": [],
   "source": []
  },
  {
   "cell_type": "code",
   "execution_count": 6,
   "metadata": {
    "collapsed": false
   },
   "outputs": [],
   "source": []
  },
  {
   "cell_type": "code",
   "execution_count": 7,
   "metadata": {
    "collapsed": true
   },
   "outputs": [],
   "source": []
  },
  {
   "cell_type": "code",
   "execution_count": 9,
   "metadata": {
    "collapsed": false
   },
   "outputs": [
    {
     "data": {
      "text/plain": [
       "['AccessionNumber',\n",
       " 'AcquisitionNumber',\n",
       " 'BLDAngle',\n",
       " 'BeamLimitingDeviceAngle',\n",
       " 'BitsAllocated',\n",
       " 'BitsStored',\n",
       " 'Columns',\n",
       " 'ContentDate',\n",
       " 'ContentTime',\n",
       " 'ConversionType',\n",
       " 'ExposureSequence',\n",
       " 'FrameOfReferenceUID',\n",
       " 'GantryAngle',\n",
       " 'HighBit',\n",
       " 'ImagePlanePixelSpacing',\n",
       " 'ImageType',\n",
       " 'InstanceCreationDate',\n",
       " 'InstanceCreationTime',\n",
       " 'InstanceNumber',\n",
       " 'Manufacturer',\n",
       " 'ManufacturerModelName',\n",
       " 'Modality',\n",
       " 'OperatorsName',\n",
       " 'PatientBirthDate',\n",
       " 'PatientBirthTime',\n",
       " 'PatientID',\n",
       " 'PatientName',\n",
       " 'PatientOrientation',\n",
       " 'PatientSex',\n",
       " 'PatientSupportAngle',\n",
       " 'PhotometricInterpretation',\n",
       " 'PixelData',\n",
       " 'PixelRepresentation',\n",
       " 'PlanarConfiguration',\n",
       " 'PositionReferenceIndicator',\n",
       " 'PrimaryDosimeterUnit',\n",
       " 'RTImageDescription',\n",
       " 'RTImageLabel',\n",
       " 'RTImageOrientation',\n",
       " 'RTImagePlane',\n",
       " 'RTImagePosition',\n",
       " 'RTImageSID',\n",
       " 'RadiationMachineName',\n",
       " 'RadiationMachineSAD',\n",
       " 'ReferringPhysicianName',\n",
       " 'ReportedValuesOrigin',\n",
       " 'RescaleIntercept',\n",
       " 'RescaleSlope',\n",
       " 'RescaleType',\n",
       " 'Rows',\n",
       " 'SOPClassUID',\n",
       " 'SOPInstanceUID',\n",
       " 'SamplesPerPixel',\n",
       " 'SeriesInstanceUID',\n",
       " 'SeriesNumber',\n",
       " 'SoftwareVersions',\n",
       " 'SpecificCharacterSet',\n",
       " 'StationName',\n",
       " 'StudyDate',\n",
       " 'StudyID',\n",
       " 'StudyInstanceUID',\n",
       " 'StudyTime',\n",
       " 'TableTopLateralPosition',\n",
       " 'TableTopLongitudinalPosition',\n",
       " 'TableTopVerticalPosition',\n",
       " 'WindowCenter',\n",
       " 'WindowWidth',\n",
       " 'XRayImageReceptorAngle',\n",
       " 'XRayImageReceptorTranslation']"
      ]
     },
     "execution_count": 9,
     "metadata": {},
     "output_type": "execute_result"
    }
   ],
   "source": []
  },
  {
   "cell_type": "code",
   "execution_count": null,
   "metadata": {
    "collapsed": true
   },
   "outputs": [],
   "source": []
  }
 ],
 "metadata": {
  "anaconda-cloud": {},
  "kernelspec": {
   "display_name": "Python [conda root]",
   "language": "python",
   "name": "conda-root-py"
  },
  "language_info": {
   "codemirror_mode": {
    "name": "ipython",
    "version": 3
   },
   "file_extension": ".py",
   "mimetype": "text/x-python",
   "name": "python",
   "nbconvert_exporter": "python",
   "pygments_lexer": "ipython3",
   "version": "3.5.2"
  }
 },
 "nbformat": 4,
 "nbformat_minor": 1
}
